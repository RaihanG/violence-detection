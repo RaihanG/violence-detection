{
 "cells": [
  {
   "cell_type": "code",
   "execution_count": 76,
   "metadata": {},
   "outputs": [],
   "source": [
    "import numpy as np\n",
    "import os\n",
    "import cv2\n",
    "import keras\n",
    "import sklearn\n",
    "import pandas\n",
    "from sklearn.model_selection import train_test_split\n",
    "from keras.models import Sequential\n",
    "from keras.layers import *\n",
    "from keras.utils import to_categorical\n",
    "from keras.models import load_model\n",
    "from keras.layers import *\n",
    "from keras import layers\n",
    "from keras import Model"
   ]
  },
  {
   "cell_type": "code",
   "execution_count": 77,
   "metadata": {},
   "outputs": [],
   "source": [
    "labels=['violent','non_violent']\n",
    "path = \"C:/Users/NBH/Desktop/raw/dataset/train/10_FPS/30x30/\"\n",
    "# for label in labels:\n",
    "#     vector=[]\n",
    "\n",
    "#     images = [path + label + '/' + wavfile for wavfile in os.listdir(path + '/' + label)]\n",
    "#     for image in images:\n",
    "#         img=cv2.imread(image,0)\n",
    "#         #print(img)\n",
    "#         vector.append(img)\n",
    "#     vector = np.asarray(vector)\n",
    "#     np.save(label + '.npy', vector)\n"
   ]
  },
  {
   "cell_type": "code",
   "execution_count": 79,
   "metadata": {},
   "outputs": [],
   "source": [
    "X_train = np.load('C:/Users/NBH/Desktop/raw/dataset/train/10_FPS/30x30/'+labels[0] + '.npy')\n",
    "y_train = np.zeros(X_train.shape[0])"
   ]
  },
  {
   "cell_type": "code",
   "execution_count": 80,
   "metadata": {},
   "outputs": [
    {
     "data": {
      "text/plain": [
       "(15258, 30, 30)"
      ]
     },
     "execution_count": 80,
     "metadata": {},
     "output_type": "execute_result"
    }
   ],
   "source": [
    "X_train.shape"
   ]
  },
  {
   "cell_type": "code",
   "execution_count": 81,
   "metadata": {},
   "outputs": [],
   "source": [
    "for i, label in enumerate(labels[1:]):\n",
    "    x = np.load('C:/Users/NBH/Desktop/raw/dataset/train/10_FPS/30x30/'+label + '.npy')\n",
    "    X_train = np.vstack((X_train, x))\n",
    "    y_train = np.append(y_train, np.full(x.shape[0], fill_value= (i + 1)))"
   ]
  },
  {
   "cell_type": "code",
   "execution_count": 82,
   "metadata": {},
   "outputs": [
    {
     "data": {
      "text/plain": [
       "(26745,)"
      ]
     },
     "execution_count": 82,
     "metadata": {},
     "output_type": "execute_result"
    }
   ],
   "source": [
    "y_train.shape"
   ]
  },
  {
   "cell_type": "code",
   "execution_count": 83,
   "metadata": {},
   "outputs": [],
   "source": [
    "# path = \"C:/Users/NBH/Desktop/raw/dataset/test/10_FPS/30x30/\"\n",
    "# for label in labels:\n",
    "#     vector=[]\n",
    "\n",
    "#     images = [path + label + '/' + wavfile for wavfile in os.listdir(path + '/' + label)]\n",
    "#     for image in images:\n",
    "#         img=cv2.imread(image,0)\n",
    "# #         print(img)\n",
    "#         vector.append(img)\n",
    "#     vector = np.asarray(vector)\n",
    "#     np.save(label + '.npy', vector)"
   ]
  },
  {
   "cell_type": "code",
   "execution_count": 84,
   "metadata": {},
   "outputs": [],
   "source": [
    "X_train, X_test, y_train, y_test = train_test_split(X_train, y_train, test_size=0.20, random_state=42)"
   ]
  },
  {
   "cell_type": "code",
   "execution_count": 115,
   "metadata": {},
   "outputs": [],
   "source": [
    "# X_train = X_train.reshape(X_train.shape[0],30,30,1)\n",
    "# X_test = X_test.reshape(X_test.shape[0],30,30,1)\n"
   ]
  },
  {
   "cell_type": "code",
   "execution_count": 163,
   "metadata": {},
   "outputs": [
    {
     "name": "stdout",
     "output_type": "stream",
     "text": [
      "_________________________________________________________________\n",
      "Layer (type)                 Output Shape              Param #   \n",
      "=================================================================\n",
      "input_57 (InputLayer)        (None, 30, 30)            0         \n",
      "_________________________________________________________________\n",
      "conv1d_114 (Conv1D)          (None, 30, 64)            5824      \n",
      "_________________________________________________________________\n",
      "conv1d_115 (Conv1D)          (None, 30, 64)            12352     \n",
      "_________________________________________________________________\n",
      "lstm_52 (LSTM)               (None, 100)               66000     \n",
      "_________________________________________________________________\n",
      "batch_normalization_50 (Batc (None, 100)               400       \n",
      "_________________________________________________________________\n",
      "dense_37 (Dense)             (None, 1)                 101       \n",
      "=================================================================\n",
      "Total params: 84,677\n",
      "Trainable params: 84,477\n",
      "Non-trainable params: 200\n",
      "_________________________________________________________________\n"
     ]
    },
    {
     "name": "stderr",
     "output_type": "stream",
     "text": [
      "C:\\Users\\NBH\\Anaconda3\\envs\\violence\\lib\\site-packages\\ipykernel_launcher.py:12: UserWarning: Update your `Model` call to the Keras 2 API: `Model(inputs=Tensor(\"in..., outputs=Tensor(\"de...)`\n",
      "  if sys.path[0] == '':\n"
     ]
    }
   ],
   "source": [
    "inp = Input((30,30))\n",
    "\n",
    "layer = Conv1D(64, 3, activation='relu', padding='same')(inp)\n",
    "layer = Conv1D(64,3, activation='relu', padding='same')(layer)\n",
    "\n",
    "# layer = Flatten()(layer)\n",
    "layer = LSTM(100, return_sequences=False, kernel_regularizer=regularizers.l2(0.01))(layer)\n",
    "layer = BatchNormalization()(layer)\n",
    " \n",
    "# layer = Dropout(0.50) (layer)\n",
    "layer = Dense(1, activation='softmax')(layer)\n",
    "model = Model(input = inp, output = layer)\n",
    "model.summary()"
   ]
  },
  {
   "cell_type": "code",
   "execution_count": 164,
   "metadata": {},
   "outputs": [],
   "source": [
    "model.compile(loss=keras.losses.binary_crossentropy,\n",
    "              optimizer='adam',\n",
    "              metrics=['accuracy'])"
   ]
  },
  {
   "cell_type": "code",
   "execution_count": null,
   "metadata": {},
   "outputs": [
    {
     "name": "stdout",
     "output_type": "stream",
     "text": [
      "Epoch 1/100\n",
      "21396/21396 [==============================] - 16s 752us/step - loss: 9.1510 - acc: 0.4295\n",
      "Epoch 2/100\n",
      "17120/21396 [=======================>......] - ETA: 2s - loss: 9.1008 - acc: 0.4291"
     ]
    }
   ],
   "source": [
    "model.fit(X_train,y_train, epochs=100, verbose=1)"
   ]
  },
  {
   "cell_type": "code",
   "execution_count": null,
   "metadata": {},
   "outputs": [],
   "source": []
  }
 ],
 "metadata": {
  "kernelspec": {
   "display_name": "Python 3",
   "language": "python",
   "name": "python3"
  },
  "language_info": {
   "codemirror_mode": {
    "name": "ipython",
    "version": 3
   },
   "file_extension": ".py",
   "mimetype": "text/x-python",
   "name": "python",
   "nbconvert_exporter": "python",
   "pygments_lexer": "ipython3",
   "version": "3.6.8"
  }
 },
 "nbformat": 4,
 "nbformat_minor": 2
}
